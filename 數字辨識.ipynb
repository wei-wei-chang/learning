{
 "cells": [
  {
   "cell_type": "code",
   "execution_count": 2,
   "metadata": {},
   "outputs": [
    {
     "name": "stdout",
     "output_type": "stream",
     "text": [
      "torch.Size([28, 28])\n",
      "torch.Size([60000])\n"
     ]
    },
    {
     "data": {
      "image/png": "[encoded data removed]",
      "text/plain": [
       "<Figure size 432x288 with 1 Axes>"
      ]
     },
     "metadata": {
      "needs_background": "light"
     },
     "output_type": "display_data"
    }
   ],
   "source": [
    "import os \n",
    "import torch\n",
    "import torch.nn as nn\n",
    "import torch.utils.data as Data\n",
    "import torchvision\n",
    "import matplotlib.pyplot as plt\n",
    "\n",
    "#Hyper parameters\n",
    "EPOCH=1\n",
    "batch_size=50\n",
    "LR=0.001\n",
    "Download_mnist=False\n",
    "\n",
    "if not(os.path.exists('./mnist')) or os.listdir('./mnist'):\n",
    "    Download_mnist=True\n",
    "    \n",
    "train_data=torchvision.datasets.MNIST(root='./mnist',train=True,transform=torchvision.transforms.ToTensor(),download=Download_mnist)\n",
    "print(train_data.data[0].size())  #第一筆訓練資料的大小 (60000,28,28)\n",
    "print(train_data.targets.size())  #60000\n",
    "plt.imshow(train_data.data[0].numpy(),cmap='gray')\n",
    "plt.title('targets=%i' % train_data.targets[0])\n",
    "plt.show()"
   ]
  },
  {
   "cell_type": "code",
   "execution_count": 3,
   "metadata": {},
   "outputs": [],
   "source": [
    "train_loader=Data.DataLoader(dataset=train_data,batch_size=batch_size,shuffle=True)\n",
    "test_data=torchvision.datasets.MNIST(root='./mnist',train=False)\n",
    "test_x=torch.unsqueeze(test_data.data,dim=1).type(torch.FloatTensor)[:2000]/255  #  (2000, 28, 28) to (2000, 1, 28, 28), value in range(0,1)\n",
    "test_y=test_data.targets[:2000]\n",
    "\n",
    "class CNN(nn.Module):\n",
    "    def __init__(self):\n",
    "        super(CNN,self).__init__()\n",
    "        self.conv1=nn.Sequential(\n",
    "          nn.Conv2d(in_channels=1,out_channels=16,kernel_size=5,stride=1,padding=2),\n",
    "          nn.ReLU(),\n",
    "          nn.MaxPool2d(kernel_size=2))\n",
    "        self.conv2=nn.Sequential(\n",
    "          nn.Conv2d(16,32,5,1,2),\n",
    "          nn.ReLU(),\n",
    "          nn.MaxPool2d(2))\n",
    "        self.out=nn.Linear(32*7*7,10)\n",
    "    def forward(self,x):\n",
    "        x=self.conv1(x)\n",
    "        x=self.conv2(x)\n",
    "        x=x.view(x.size(0),-1)\n",
    "        output=self.out(x)\n",
    "        return output, x"
   ]
  },
  {
   "cell_type": "code",
   "execution_count": 4,
   "metadata": {},
   "outputs": [
    {
     "name": "stdout",
     "output_type": "stream",
     "text": [
      "CNN(\n",
      "  (conv1): Sequential(\n",
      "    (0): Conv2d(1, 16, kernel_size=(5, 5), stride=(1, 1), padding=(2, 2))\n",
      "    (1): ReLU()\n",
      "    (2): MaxPool2d(kernel_size=2, stride=2, padding=0, dilation=1, ceil_mode=False)\n",
      "  )\n",
      "  (conv2): Sequential(\n",
      "    (0): Conv2d(16, 32, kernel_size=(5, 5), stride=(1, 1), padding=(2, 2))\n",
      "    (1): ReLU()\n",
      "    (2): MaxPool2d(kernel_size=2, stride=2, padding=0, dilation=1, ceil_mode=False)\n",
      "  )\n",
      "  (out): Linear(in_features=1568, out_features=10, bias=True)\n",
      ")\n"
     ]
    }
   ],
   "source": [
    "cnn=CNN()\n",
    "print(cnn)"
   ]
  },
  {
   "cell_type": "code",
   "execution_count": 5,
   "metadata": {},
   "outputs": [
    {
     "name": "stdout",
     "output_type": "stream",
     "text": [
      "Epoch:  0 | train loss: 2.3120 | test accuracy: 0.11\n",
      "Epoch:  0 | train loss: 0.5064 | test accuracy: 0.82\n",
      "Epoch:  0 | train loss: 0.2951 | test accuracy: 0.88\n",
      "Epoch:  0 | train loss: 0.2386 | test accuracy: 0.91\n",
      "Epoch:  0 | train loss: 0.2209 | test accuracy: 0.93\n",
      "Epoch:  0 | train loss: 0.2639 | test accuracy: 0.94\n",
      "Epoch:  0 | train loss: 0.0957 | test accuracy: 0.94\n",
      "Epoch:  0 | train loss: 0.1075 | test accuracy: 0.96\n",
      "Epoch:  0 | train loss: 0.0828 | test accuracy: 0.96\n",
      "Epoch:  0 | train loss: 0.0568 | test accuracy: 0.96\n",
      "Epoch:  0 | train loss: 0.1244 | test accuracy: 0.96\n",
      "Epoch:  0 | train loss: 0.0496 | test accuracy: 0.96\n",
      "Epoch:  0 | train loss: 0.0904 | test accuracy: 0.97\n",
      "Epoch:  0 | train loss: 0.1699 | test accuracy: 0.97\n",
      "Epoch:  0 | train loss: 0.0739 | test accuracy: 0.97\n",
      "Epoch:  0 | train loss: 0.0432 | test accuracy: 0.97\n",
      "Epoch:  0 | train loss: 0.0496 | test accuracy: 0.97\n",
      "Epoch:  0 | train loss: 0.2722 | test accuracy: 0.97\n",
      "Epoch:  0 | train loss: 0.0243 | test accuracy: 0.97\n",
      "Epoch:  0 | train loss: 0.0333 | test accuracy: 0.97\n",
      "Epoch:  0 | train loss: 0.0499 | test accuracy: 0.97\n",
      "Epoch:  0 | train loss: 0.0362 | test accuracy: 0.97\n",
      "Epoch:  0 | train loss: 0.0641 | test accuracy: 0.97\n",
      "Epoch:  0 | train loss: 0.0668 | test accuracy: 0.98\n",
      "[7 2 1 0 4 1 4 9 5 9] prediction number\n",
      "[7 2 1 0 4 1 4 9 5 9] real number\n"
     ]
    }
   ],
   "source": [
    "optimizer=torch.optim.Adam(cnn.parameters(),lr=LR)\n",
    "loss_func=nn.CrossEntropyLoss()\n",
    "\n",
    "for epoch in range(EPOCH):\n",
    "    for step, (b_x, b_y) in enumerate(train_loader):# gives batch data, normalize x when iterate train_loader\n",
    "        output = cnn(b_x)[0]# cnn output, [1]:x\n",
    "        loss = loss_func(output, b_y)   # cross entropy loss\n",
    "        optimizer.zero_grad()           \n",
    "        loss.backward()               \n",
    "        optimizer.step()            \n",
    "\n",
    "        if step % 50 == 0:\n",
    "            test_output, last_layer = cnn(test_x)\n",
    "            pred_y = torch.max(test_output, 1)[1].data.numpy()\n",
    "            accuracy = float((pred_y == test_y.data.numpy()).astype(int).sum()) / float(test_y.size(0))\n",
    "            print('Epoch: ', epoch, '| train loss: %.4f' % loss.data.numpy(), '| test accuracy: %.2f' % accuracy)\n",
    "            \n",
    "plt.ioff()\n",
    "\n",
    "# print 10 predictions from test data\n",
    "test_output, _ = cnn(test_x[:10])\n",
    "pred_y = torch.max(test_output, 1)[1].data.numpy()\n",
    "print(pred_y, 'prediction number')\n",
    "print(test_y[:10].numpy(), 'real number')"
   ]
  },
  {
   "cell_type": "code",
   "execution_count": null,
   "metadata": {},
   "outputs": [],
   "source": []
  }
 ],
 "metadata": {
  "kernelspec": {
   "display_name": "Python 3",
   "language": "python",
   "name": "python3"
  },
  "language_info": {
   "codemirror_mode": {
    "name": "ipython",
    "version": 3
   },
   "file_extension": ".py",
   "mimetype": "text/x-python",
   "name": "python",
   "nbconvert_exporter": "python",
   "pygments_lexer": "ipython3",
   "version": "3.7.3"
  }
 },
 "nbformat": 4,
 "nbformat_minor": 2
}
